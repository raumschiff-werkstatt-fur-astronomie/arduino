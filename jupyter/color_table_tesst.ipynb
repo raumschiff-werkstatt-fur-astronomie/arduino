{
 "cells": [
  {
   "cell_type": "code",
   "execution_count": 1,
   "metadata": {
    "collapsed": true
   },
   "outputs": [
    {
     "name": "stdout",
     "output_type": "stream",
     "text": [
      "hello\n"
     ]
    }
   ],
   "source": [
    "print(\"hello\")"
   ]
  },
  {
   "cell_type": "code",
   "execution_count": 26,
   "outputs": [
    {
     "name": "stdout",
     "output_type": "stream",
     "text": [
      "[240, 0, 858]\n"
     ]
    }
   ],
   "source": [
    "val = 5e-7\n",
    "\n",
    "freq = [500, 500, 500]\n",
    "duty = [200, 200, 200]\n",
    "\n",
    "duty_index = int(convert(val, 1e-7, 1e-5, 0, 255))\n",
    "\n",
    "duty_rgb = color_table[duty_index]\n",
    "\n",
    "for i in range(3):\n",
    "    duty[i] = convert(int(duty_rgb[i]), 0, 255, 0, 1023)\n",
    "\n",
    "print( duty )\n"
   ],
   "metadata": {
    "collapsed": false
   }
  },
  {
   "cell_type": "code",
   "execution_count": 10,
   "outputs": [],
   "source": [
    "color_table = []\n",
    "f = open('../micropython/rainbow.rgb')\n",
    "lines = f.readlines()\n",
    "for line in lines:\n",
    "    color_table.append(line.strip().split())\n"
   ],
   "metadata": {
    "collapsed": false
   }
  },
  {
   "cell_type": "code",
   "execution_count": 8,
   "outputs": [
    {
     "data": {
      "text/plain": "'/Users/csillag/Documents/GitHub/goesflarewatch/jupyter'"
     },
     "execution_count": 8,
     "metadata": {},
     "output_type": "execute_result"
    }
   ],
   "source": [
    "pwd"
   ],
   "metadata": {
    "collapsed": false
   }
  },
  {
   "cell_type": "code",
   "execution_count": 3,
   "outputs": [],
   "source": [
    "def convert(x, i_m, i_M, o_m, o_M):\n",
    "    \"\"\"\n",
    "    Will return an integer between out_min (o_m) and out_max (o_M)\n",
    "    From the Internet: https://forum.micropython.org/viewtopic.php?f=2&t=7615\n",
    "    \"\"\"\n",
    "    return max(min(o_M, (x - i_m) * (o_M - o_m) // (i_M - i_m) + o_m), o_m)\n"
   ],
   "metadata": {
    "collapsed": false
   }
  },
  {
   "cell_type": "code",
   "execution_count": null,
   "outputs": [],
   "source": [],
   "metadata": {
    "collapsed": false
   }
  }
 ],
 "metadata": {
  "kernelspec": {
   "display_name": "Python 3",
   "language": "python",
   "name": "python3"
  },
  "language_info": {
   "codemirror_mode": {
    "name": "ipython",
    "version": 2
   },
   "file_extension": ".py",
   "mimetype": "text/x-python",
   "name": "python",
   "nbconvert_exporter": "python",
   "pygments_lexer": "ipython2",
   "version": "2.7.6"
  }
 },
 "nbformat": 4,
 "nbformat_minor": 0
}
